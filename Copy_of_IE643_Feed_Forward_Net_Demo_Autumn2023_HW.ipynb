{
  "cells": [
    {
      "cell_type": "markdown",
      "metadata": {
        "id": "Ah0_8QSAVsk9"
      },
      "source": [
        "# **IE 643: Feed Forward Neural Network Demo**"
      ]
    },
    {
      "cell_type": "markdown",
      "metadata": {
        "id": "80_uJlpxV9hB"
      },
      "source": [
        "In this demo, we will see how to build a Multi-layered perceptron (Feed Forward Neural Network or FFNN) from scratch."
      ]
    },
    {
      "cell_type": "markdown",
      "metadata": {
        "id": "dYu-lRlVWwqw"
      },
      "source": [
        "# Importing the basic libaries -"
      ]
    },
    {
      "cell_type": "code",
      "execution_count": null,
      "metadata": {
        "id": "QT3Suc9U_yq8",
        "scrolled": false
      },
      "outputs": [],
      "source": [
        "import numpy as np\n",
        "import matplotlib.pyplot as plt\n",
        "np.random.seed(1000)"
      ]
    },
    {
      "cell_type": "markdown",
      "metadata": {
        "id": "NeS7Di8nXQsl"
      },
      "source": [
        "# **Loading the Data-**"
      ]
    },
    {
      "cell_type": "markdown",
      "metadata": {
        "id": "HcTjBDMCXi8j"
      },
      "source": [
        "We will be using MNIST Dataset for the classification problem. MNIST dataset contains grayscale images of handwritten digits of the size 28*28. We will be building a neural network to classify these images.\n",
        "\n",
        "The MNIST database of handwritten digits, has a training set of 60,000 examples, and a test set of 10,000 examples. The digits have been size-normalized and centered in a fixed-size image.\n",
        "\n",
        "Source- http://yann.lecun.com/exdb/mnist/"
      ]
    },
    {
      "cell_type": "code",
      "execution_count": null,
      "metadata": {
        "id": "suoT0icEE-U5"
      },
      "outputs": [],
      "source": [
        "from keras.datasets import mnist\n",
        "\n",
        "(X_train, Y_train), (X_test, Y_test) = mnist.load_data()\n",
        "print(f'Train: X - {X_train.shape}, y - {Y_train.shape}')\n",
        "print(f'Test: X - {X_test.shape}, y - {Y_test.shape}')"
      ]
    },
    {
      "cell_type": "markdown",
      "metadata": {
        "id": "hitiUqp3AfPm"
      },
      "source": [
        "#### Displaying an image from the dataset"
      ]
    },
    {
      "cell_type": "code",
      "execution_count": null,
      "metadata": {
        "id": "zIUooIG--_4f"
      },
      "outputs": [],
      "source": [
        "plt.imshow(X_train[20],cmap='gray')\n",
        "plt.show()\n",
        "print(f\"\\n\\nLabel in dataset: {Y_train[20]}\")"
      ]
    },
    {
      "cell_type": "code",
      "execution_count": null,
      "metadata": {
        "id": "Ezn1RRvSSO6n"
      },
      "outputs": [],
      "source": [
        "digits = np.unique(Y_train)\n",
        "print(digits)"
      ]
    },
    {
      "cell_type": "code",
      "execution_count": null,
      "metadata": {
        "id": "U4iknbGdONNR"
      },
      "outputs": [],
      "source": [
        "M = 30 # no of instances for each class\n",
        "fig, axs = plt.subplots(len(digits), M, figsize=(18,4))\n",
        "for i,d in enumerate(digits):\n",
        "    for j in range(M):\n",
        "        axs[i,j].imshow(X_train[Y_train==d][j], cmap='gray')\n",
        "        axs[i,j].axis('off')"
      ]
    },
    {
      "cell_type": "code",
      "execution_count": null,
      "metadata": {
        "id": "wpB1-j-MBFyp"
      },
      "outputs": [],
      "source": [
        "#Displaying the contents of 21th image (the choice of index 20 is random here)\n",
        "X_train[20]"
      ]
    },
    {
      "cell_type": "markdown",
      "metadata": {
        "id": "IHJuvR7aJdR7"
      },
      "source": [
        "As you can see here, each image is a (28x28) 2d numpy array and hence contains 784 individual pixel values (in grayscale)."
      ]
    },
    {
      "cell_type": "code",
      "execution_count": null,
      "metadata": {
        "id": "S71aa1suVfwL"
      },
      "outputs": [],
      "source": [
        "#displaying the contents of Y_train for 21st image\n",
        "Y_train[20]"
      ]
    },
    {
      "cell_type": "code",
      "execution_count": null,
      "metadata": {
        "id": "zwkEglRBMsbr"
      },
      "outputs": [],
      "source": [
        "#counts for all unique class labels\n",
        "unique, counts = np.unique(Y_train, return_counts=True)\n",
        "print(np.asarray((unique, counts)).T)"
      ]
    },
    {
      "cell_type": "code",
      "execution_count": null,
      "metadata": {
        "id": "kI8TlS3XG0tT"
      },
      "outputs": [],
      "source": [
        "# flattening single example\n",
        "example = X_train[40].reshape((-1))\n",
        "print(type(example))\n",
        "print(\"Shape:\", example.shape)"
      ]
    },
    {
      "cell_type": "markdown",
      "metadata": {
        "id": "8UZxTtqa6BAO"
      },
      "source": [
        "# **Pre-processing:**"
      ]
    },
    {
      "cell_type": "markdown",
      "metadata": {
        "id": "enfY6Lj46G6l"
      },
      "source": [
        "**Flattening the input values-** Because we are using a simple FFNN, it would be better to convert all the input images of size ${28*28}$ to a size of ${784*1}$ i.e to convert each input from a 2D array to a 1D array."
      ]
    },
    {
      "cell_type": "code",
      "execution_count": null,
      "metadata": {
        "id": "0N84EzhtH__R"
      },
      "outputs": [],
      "source": [
        "# flattening the input\n",
        "\n",
        "X_train_flattened = X_train.reshape((X_train.shape[0], -1))\n",
        "X_test_flattened = X_test.reshape((X_test.shape[0], -1))\n",
        "\n",
        "print(f\"Shapes - Train: {X_train_flattened.shape}, Test: {X_test_flattened.shape}\")"
      ]
    },
    {
      "cell_type": "markdown",
      "metadata": {
        "id": "rTqzd3CfJ-Pb"
      },
      "source": [
        "**Normalizing input values:**\n",
        "\n",
        "We often need to normalize the input values into a convinient range. Let us see what is the current range of pixel values:"
      ]
    },
    {
      "cell_type": "code",
      "execution_count": null,
      "metadata": {
        "id": "nXobob1BIiyK"
      },
      "outputs": [],
      "source": [
        "print(\"Minimum pixel value =\", X_train_flattened.min())\n",
        "print(\"Maximum pixel value =\", X_train_flattened.max())"
      ]
    },
    {
      "cell_type": "markdown",
      "metadata": {
        "id": "3-VVt47UCtDD"
      },
      "source": [
        "As the pixel values lies between the range 0 and 255, we want to normalize the input such that values of the pixels lies in the range (0,1). So, to normalize, we will divide each input values by the maximum pixel value which in this case is 255."
      ]
    },
    {
      "cell_type": "markdown",
      "metadata": {
        "id": "1J2Z_A8cSYFl"
      },
      "source": [
        "**Normalizing the dataset:**"
      ]
    },
    {
      "cell_type": "code",
      "execution_count": null,
      "metadata": {
        "id": "Eav9JO6PREKz"
      },
      "outputs": [],
      "source": [
        "X_normalized_train = np.round(X_train_flattened/X_train_flattened.max(), 3)\n",
        "X_normalized_test = np.round(X_test_flattened/X_test_flattened.max(), 3)\n",
        "#print the new values\n",
        "print(\"Minimum pixel value =\", X_normalized_train.min())\n",
        "print(\"Maximum pixel value =\", X_normalized_train.max())"
      ]
    },
    {
      "cell_type": "code",
      "execution_count": null,
      "metadata": {
        "id": "v5ASDEeCWDxG"
      },
      "outputs": [],
      "source": [
        "X_normalized_train[20]"
      ]
    },
    {
      "cell_type": "markdown",
      "metadata": {
        "id": "-c9jMsVDEXN8"
      },
      "source": [
        "**Normalized and flattened data can still be visaulized just like original data-**"
      ]
    },
    {
      "cell_type": "code",
      "execution_count": null,
      "metadata": {
        "id": "M1BjaZDWDqpQ"
      },
      "outputs": [],
      "source": [
        "# normalized and flattened data can still be visualized as original data\n",
        "plt.imshow(X_normalized_train[20].reshape(28,28), cmap='gray')\n",
        "plt.show()"
      ]
    },
    {
      "cell_type": "markdown",
      "metadata": {
        "id": "rIw-T2dcF8ZC"
      },
      "source": [
        "So, we can see that normalizing does not effect the nature of data. So, we will use this normalized and flattened layer as the input to our neural network."
      ]
    },
    {
      "cell_type": "markdown",
      "metadata": {
        "id": "rmOvxsaUGh1u"
      },
      "source": [
        "# **Creating datasets for binary and multiclass classification-**"
      ]
    },
    {
      "cell_type": "markdown",
      "metadata": {
        "id": "1YJkfylcGsqG"
      },
      "source": [
        "## **Binary Classification problem-**\n",
        "\n",
        "MNIST dataset has 10 different target classes, each representing one of the digits from 0-9. Let's consider digits '**0**' and '**1**' for binary classification. We will take only these inputs from the original dataset-\n",
        "\n",
        "**Creating the dataset-**"
      ]
    },
    {
      "cell_type": "code",
      "execution_count": null,
      "metadata": {
        "id": "7111D1S4VpGG"
      },
      "outputs": [],
      "source": [
        "#for train data\n",
        "train_idx = np.where((Y_train==0) | (Y_train==1))# Here we get the index of values 0 and 1\n",
        "X_train_bin = X_normalized_train[train_idx]\n",
        "Y_train_bin = Y_train[train_idx]\n",
        "\n",
        "#for test data\n",
        "test_idx = np.where((Y_test==0) | (Y_test==1))\n",
        "X_test_bin = X_normalized_test[test_idx]\n",
        "Y_test_bin = Y_test[test_idx]\n",
        "\n",
        "print(f'Trainset shapes - X: {X_train_bin.shape}, Y: {Y_train_bin.shape}')\n",
        "print(f'Testset shapes - X: {X_test_bin.shape}, Y: {Y_test_bin.shape}')\n",
        "\n",
        "print(f'\\nTrain statistics - 0: {(Y_train_bin==0).sum()}, 1: {(Y_train_bin==1).sum()}')\n",
        "print(f'Test statistics - 0: {(Y_test_bin==0).sum()}, 1: {(Y_test_bin==1).sum()}')\n"
      ]
    },
    {
      "cell_type": "markdown",
      "metadata": {
        "id": "wIBGzieINITS"
      },
      "source": [
        "We now have only 0's and 1's in the newly created subset of the dataset. As we can see that count of 0's and 1's is quite even. So, the dataset is quite evenly balanced."
      ]
    },
    {
      "cell_type": "markdown",
      "metadata": {
        "id": "U1A-BUpkQmT8"
      },
      "source": [
        "**Splitting the training dataset-**"
      ]
    },
    {
      "cell_type": "markdown",
      "metadata": {
        "id": "jplpnBWWR9Ml"
      },
      "source": [
        "Often it is observed that training a model for a large number of epochs leads to the model overfitting very much to the training data set. To tackle this issue, we need a validation dataset to keep track of the 'validation performance'. So, we will now split the current training dataset (of 11344 instances) into a training set and validation set."
      ]
    },
    {
      "cell_type": "code",
      "execution_count": null,
      "metadata": {
        "id": "hvoYIMvKX6sd"
      },
      "outputs": [],
      "source": [
        "from sklearn.model_selection import train_test_split"
      ]
    },
    {
      "cell_type": "markdown",
      "metadata": {
        "id": "W9JUk9eYTG8k"
      },
      "source": [
        "We can use this library to split our data.\n",
        "\n",
        "In general, a split of 90-10, 80-20, 67-33 etc. is used. You can choose your own value as it is always a tradeoff.\n",
        "\n",
        "We will go with 80-20 split."
      ]
    },
    {
      "cell_type": "code",
      "execution_count": null,
      "metadata": {
        "id": "V9slDYMrbh53"
      },
      "outputs": [],
      "source": [
        "X_train_bin, X_val_bin, Y_train_bin, Y_val_bin = train_test_split(X_train_bin, Y_train_bin, test_size=0.2, random_state = 28)"
      ]
    },
    {
      "cell_type": "code",
      "execution_count": null,
      "metadata": {
        "id": "y0mWgtbYcmug"
      },
      "outputs": [],
      "source": [
        "print(\"Instances in new train-set:\", len(Y_train_bin))\n",
        "print(\"Instances in val-set:\", len(Y_val_bin))\n",
        "print(\"\\nCount of 0s and 1s in train-set:\", (Y_train_bin==0).sum(), (Y_train_bin==1).sum())\n",
        "print(\"Count of 0s and 1s in val-set:\", (Y_val_bin==0).sum(), (Y_val_bin==1).sum())"
      ]
    },
    {
      "cell_type": "code",
      "execution_count": null,
      "metadata": {
        "id": "PlFCGFISpDmD"
      },
      "outputs": [],
      "source": [
        "# Transpose feature matrices as per our model requirement\n",
        "\n",
        "X_train_bin, X_val_bin, X_test_bin = X_train_bin.T, X_val_bin.T, X_test_bin.T\n",
        "print(f'Shapes - {X_train_bin.shape, X_val_bin.shape, X_test_bin.shape}')"
      ]
    },
    {
      "cell_type": "markdown",
      "metadata": {
        "id": "b6Ag1ws0Im_N"
      },
      "source": [
        "# **Building the Neural Net class:**"
      ]
    },
    {
      "cell_type": "markdown",
      "metadata": {
        "id": "qt_j4_inJxZp"
      },
      "source": [
        "![download.jpeg](data:image/jpeg;base64,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)"
      ]
    },
    {
      "cell_type": "markdown",
      "source": [
        "\n",
        "\\begin{equation}\n",
        "    \\mathbf{W}\n",
        "    =\n",
        "    \\begin{bmatrix}\n",
        "        W^{1} & W^{2}  & W^{3} \\\\\n",
        "    \\end{bmatrix}\n",
        "\\end{equation}\n",
        "\n",
        "where, $ \\\\ $\n",
        "\n",
        "\n",
        "\\begin{equation}\n",
        "    \\mathbf{W^{l}} =\n",
        "    \\begin{bmatrix}\n",
        "        w_{11} & w_{12} & w_{13} & \\dots & w_{1N_{l-1}} \\\\\n",
        "        w_{21} & w_{22} & w_{23} & \\dots & w_{2N_{l-1}} \\\\\n",
        "        \\vdots & \\vdots & \\vdots & \\ddots & \\vdots \\\\\n",
        "        w_{N_{l}1} & w_{N_{l}2} & w_{N_{l}3} & \\dots & w_{N_{l}N_{l-1}} \\\\\n",
        "    \\end{bmatrix}\n",
        "\\end{equation}\n",
        "\n",
        "\n",
        "Equation:\n",
        "\n",
        "m : Total number of samples\n",
        "\n",
        "For input X:\n",
        "\n",
        "\n",
        "\\begin{equation}\n",
        "    \\mathbf{Z^{1}} = \\mathbf{W^{1}}\\ \\mathbf{X} + \\mathbf{b^{1}}\n",
        "\\end{equation}\n",
        "\n",
        "\\begin{equation}\n",
        "    \\mathbf{Z^{1}} = \\mathbf{W^{1}}\n",
        "    \\begin{bmatrix}\n",
        "    | & | & \\dots & | \\\\\n",
        "    \\mathbf{X}[1] & \\mathbf{X}[2] & \\dots & \\mathbf{X}[m] \\\\\n",
        "    | & | & \\dots & |\n",
        "    \\end{bmatrix} +  \\begin{bmatrix}\n",
        "        | & | & \\dots & | \\\\\n",
        "        \\mathbf{b^{1}} & \\mathbf{b^{1}} & \\dots & \\mathbf{b^{1}}\\\\\n",
        "        | & | & \\dots & |\n",
        "    \\end{bmatrix}\n",
        "\\end{equation}"
      ],
      "metadata": {
        "id": "eROSw3i-CcBW"
      }
    },
    {
      "cell_type": "markdown",
      "metadata": {
        "id": "YfM__6dVKKf1"
      },
      "source": [
        "# **Equations of Backpropagation-**"
      ]
    },
    {
      "cell_type": "markdown",
      "metadata": {
        "id": "hLjPUilNt6Db"
      },
      "source": [
        "**Recall:** $W^\\ell$ represents the matrix of weights connecting layer $\\ell − 1$ to\n",
        "layer $\\ell$.\n",
        "\n",
        "**Recall:** $δ^\\ell$ represents the error gradients with respect to the activations at the layer $\\ell$.\n",
        "\n"
      ]
    },
    {
      "cell_type": "markdown",
      "metadata": {
        "id": "PXEpoeSBkNAl"
      },
      "source": [
        "# Gradients at the output layer:  \n",
        "\n",
        "Now, the gradient with respect to weights for output layer would be-\n",
        "\n",
        "# $\\frac{\\partial e}{\\partial w_{i j}^{L}}=\\frac{\\partial e}{\\partial z_i^{L}} a_j^{L-1}=\\frac{\\partial e}{\\partial a_i^{L}} \\phi^{\\prime}\\left(z_i^{L}\\right) a_j^{L-1}$\n",
        "\n",
        "Collecting these partial derivatives into a matrix we get:\n",
        "\n",
        "# $\\nabla_{W^L} e= \\operatorname{Diag}\\left({\\phi^L}'\\right) \\delta^L (a^{L-1})^\\top$\n",
        "\n",
        "where\n",
        "\n",
        "$\\delta^L = \\begin{bmatrix} \\frac{\\partial e}{\\partial a_1^{L}} \\ldots \\frac{\\partial e}{\\partial a_{N_L}^{L}} \\end{bmatrix}^\\top$.\n",
        "\n",
        "In code, we have used an equivalent way to represent this:\n",
        "\n",
        "# $\\nabla_{W^L} e=\\operatorname{Diag}\\left({\\phi^L}'\\right) \\delta^L (a^{L-1})^\\top =: \\delta^L_z (a^{L-1})^\\top$.\n",
        "\n",
        "\n",
        "\n",
        "Similarly, the gradient with respect to bias at output layer would be-\n",
        "\n",
        "# $\\frac{\\partial e}{\\partial b_{i}^{L}}=\\frac{\\partial e}{\\partial a_i^{L}} \\phi^{\\prime}\\left(z_i^{L}\\right)$\n",
        "\n",
        "Now, these gradients can be collected into a vector:\n",
        "\n",
        "# $\\nabla_{b^L} e= \\operatorname{Diag}\\left( \\phi^{L'} \\right) \\delta^L =: \\delta_z^L$.\n",
        "\n"
      ]
    },
    {
      "cell_type": "markdown",
      "metadata": {
        "id": "ATFhV9wNlQr3"
      },
      "source": [
        "# Gradient in the hidden layer:\n",
        "\n",
        "The gradient with respect to weights for hidden layers would be-\n",
        "\n",
        "# $\\nabla_{W^{\\ell}} e=\\operatorname{Diag}\\left(\\phi^{\\ell^{\\prime}}\\right) \\delta^{\\ell}\\left(a^{\\ell-1}\\right)^{\\top}=\\operatorname{Diag}\\left(\\phi^{\\ell^{\\prime}}\\right) V^{\\ell+1} \\ldots V^L \\delta^L\\left(a^{\\ell-1}\\right)^{\\top}$\n",
        "\n",
        "$\\text { where } V^{\\ell+1}=\\left(W^{\\ell+1}\\right)^{\\top} \\operatorname{Diag}\\left(\\phi^{\\ell+1^{\\prime}}\\right) \\text {. }$\n",
        "\n",
        "In code, we have used an equivalent way to represent this:\n",
        "\n",
        "$\\nabla_{W^{\\ell}} e = \\operatorname{Diag}\\left(\\phi^{\\ell^{\\prime}}\\right) \\delta^{\\ell}\\left(a^{\\ell-1}\\right)^{\\top} \\\\\n",
        "=\\operatorname{Diag}\\left(\\phi^{\\ell^{\\prime}}\\right) \\left(W^{\\ell+1}\\right)^{\\top} \\operatorname{Diag}\\left(\\phi^{\\ell+1^{\\prime}}\\right) \\ldots \\left(W^{L}\\right)^{\\top} \\operatorname{Diag}\\left(\\phi^{L^{\\prime}}\\right) \\delta^L\\left(a^{\\ell-1}\\right)^{\\top}$.\n",
        "\n",
        "For the second last layer, we have:\n",
        "\n",
        "$\\nabla_{W^{L-1}} e = \\operatorname{Diag}\\left(\\phi^{{L-1}^{\\prime}}\\right) \\delta^{L-1}\\left(a^{L-2}\\right)^{\\top} \\\\\n",
        "=\\operatorname{Diag}\\left(\\phi^{{L-1}^{\\prime}}\\right) \\left(W^{L}\\right)^{\\top} \\operatorname{Diag}\\left(\\phi^{L^{\\prime}}\\right) \\delta^L\\left(a^{L-2}\\right)^{\\top}\\\\\n",
        "= \\delta_z^{L-1} \\left(a^{L-2}\\right)^{\\top}\n",
        "$\n",
        "\n",
        "where\n",
        "\n",
        "$\\delta_z^{L-1} = \\operatorname{Diag}\\left(\\phi^{{L-1}^{\\prime}}\\right) \\left(W^{L}\\right)^{\\top} \\delta_z^{L}$.\n",
        "\n",
        "\n",
        "Similarly, for the third last layer we have:\n",
        "\n",
        "$\\nabla_{W^{L-2}} e = \\operatorname{Diag}\\left(\\phi^{{L-2}^{\\prime}}\\right) \\left(W^{L-1}\\right)^{\\top} \\operatorname{Diag}\\left(\\phi^{{L-1}^{\\prime}}\\right) \\left(W^{L}\\right)^{\\top} \\operatorname{Diag}\\left(\\phi^{{L}^{\\prime}}\\right) \\delta^{L}\\left(a^{L-3}\\right)^{\\top} \\\\\n",
        "= \\delta_z^{L-2} \\left(a^{L-3}\\right)^{\\top}\n",
        "$\n",
        "\n",
        "where\n",
        "\n",
        "$\\delta_z^{L-2} = \\operatorname{Diag}\\left(\\phi^{{L-2}^{\\prime}}\\right) \\left(W^{L-1}\\right)^{\\top}  \\delta_z^{L-1}$.\n",
        "\n",
        "\n",
        "\n",
        "And the gradient with respect to bias at hidden layers would be-\n",
        "\n",
        "# $\\nabla_{b^{\\ell}} e=\\operatorname{Diag}\\left(\\phi^{\\ell^{\\prime}}\\right) \\delta^{\\ell}=\\operatorname{Diag}\\left(\\phi^{\\ell^{\\prime}}\\right) V^{\\ell+1} \\ldots V^L \\delta^L$.\n",
        "\n",
        "In code, we have used an equivalent way to represent this:\n",
        "\n",
        "$\\nabla_{b^{\\ell}} e = \\operatorname{Diag}\\left(\\phi^{\\ell^{\\prime}}\\right) \\delta^{\\ell} \\\\\n",
        "=\\operatorname{Diag}\\left(\\phi^{\\ell^{\\prime}}\\right) \\left(W^{\\ell+1}\\right)^{\\top} \\operatorname{Diag}\\left(\\phi^{\\ell+1^{\\prime}}\\right) \\ldots \\left(W^{L}\\right)^{\\top} \\operatorname{Diag}\\left(\\phi^{L^{\\prime}}\\right) \\delta^L.$\n",
        "\n",
        "For the second last layer, we have:\n",
        "\n",
        "$\\nabla_{b^{L-1}} e = \\operatorname{Diag}\\left(\\phi^{{L-1}^{\\prime}}\\right) \\left(W^{L}\\right)^{\\top} \\operatorname{Diag}\\left(\\phi^{L^{\\prime}}\\right) \\delta^L = \\operatorname{Diag}\\left(\\phi^{{L-1}^{\\prime}}\\right) \\left(W^{L}\\right)^{\\top} \\delta^{L}_z = \\delta^{L-1}_z$.\n",
        "\n",
        "\n",
        "For the third last layer, we have:\n",
        "\n",
        "$\\nabla_{b^{L-2}} e = \\operatorname{Diag}\\left(\\phi^{{L-2}^{\\prime}}\\right) \\left(W^{L-1}\\right)^{\\top} \\operatorname{Diag}\\left(\\phi^{{L-1}^{\\prime}}\\right) \\left(W^{L}\\right)^{\\top} \\operatorname{Diag}\\left(\\phi^{L^{\\prime}}\\right) \\delta^L = \\operatorname{Diag}\\left(\\phi^{{L-2}^{\\prime}}\\right) \\left(W^{L-1}\\right)^{\\top} \\delta^{L-1}_z = \\delta^{L-2}_z$.\n"
      ]
    },
    {
      "cell_type": "code",
      "execution_count": null,
      "metadata": {
        "id": "aNupsKfm_yq-",
        "scrolled": false
      },
      "outputs": [],
      "source": [
        "class Neural_Network():\n",
        "    def __init__(self, neurons, Activations, initialization='randn'):\n",
        "        \"\"\"Define the NN design parameters\n",
        "        Args:\n",
        "            neurons (int array): list of number of neurons in each layer\n",
        "            Activations (str array): list of activations to be used for hidden and output layers\n",
        "            initialization (str, optional): Choose weight initialization from\n",
        "             uniform or normal distribution. Defaults to 'randn'.\n",
        "        \"\"\"\n",
        "\n",
        "        self.inputSize = neurons[0] # Number of neurons in input layer\n",
        "        self.outputSize = neurons[-1] # Number of neurons in output layer\n",
        "        self.layers = len(neurons)\n",
        "        self.weights = [] # weights for each layer\n",
        "        self.biases = [] # biases in each layer\n",
        "        self.layer_activations = [] # activations for each layer\n",
        "\n",
        "        if initialization == 'rand':\n",
        "            self.initializer = np.random.rand\n",
        "        elif initialization == 'randn':\n",
        "            self.initializer = np.random.randn\n",
        "        else:\n",
        "           raise ValueError(\"initialization must be 'rand' or 'randn' or 'he' or 'xavier'\")\n",
        "        for i in range(len(neurons)-1):\n",
        "            self.weights.append(self.initializer(neurons[i+1],neurons[i])) # weight matrix between layer i and layer i+1\n",
        "            self.biases.append(self.initializer(neurons[i+1],1))\n",
        "            self.layer_activations.append(Activations[i]) # activations for each layer\n",
        "\n",
        "\n",
        "    def sigmoid(self, z):\n",
        "        \"\"\"returns result of the sigmoid activation function on input z.\"\"\"\n",
        "        ### TODO: implement logistic sigmoid activation function\n",
        "        pass\n",
        "\n",
        "    def sigmoidPrime(self,z):\n",
        "        \"\"\"returns derivative of sigmoid activation function applied on input z.\"\"\"\n",
        "        ### TODO: implement derivative of logistic sigmoid function\n",
        "        pass\n",
        "\n",
        "\n",
        "    def tanh(self, z):  #transforms values to -1 to 1\n",
        "        ### TODO: implement tanh sigmoid activation function\n",
        "        pass\n",
        "\n",
        "\n",
        "    def tanhPrime(self,x):\n",
        "        \"\"\"returns derivative of hyperbolic tan activation function applied on input z.\"\"\"\n",
        "        ### TODO: implement derivative of tanh sigmoid activation function\n",
        "        pass\n",
        "\n",
        "    def linear(self, z):\n",
        "        \"\"\"returns result of the linear activation function on input z.\"\"\"\n",
        "        ### TODO: implement linear activation function\n",
        "        pass\n",
        "\n",
        "    def linearPrime(self,z):\n",
        "        \"\"\"returns derivative of linear activation function applied on input z.\"\"\"\n",
        "        ### TODO: implement derivative of linear activation function\n",
        "        pass\n",
        "\n",
        "    def ReLU(self,z):\n",
        "        \"\"\"returns result of the ReLU activation function on input z.\"\"\"\n",
        "        ### TODO: implement ReLU activation function\n",
        "        pass\n",
        "\n",
        "    def ReLUPrime(self,z):\n",
        "        \"\"\"returns derivative of ReLU activation function applied on input z.\"\"\"\n",
        "        ### TODO: implement derivative of ReLU activation function\n",
        "        pass\n",
        "\n",
        "    def softmax(self, z):\n",
        "        \"\"\"returns result of the softmax activation function on input z.\"\"\"\n",
        "        ### TODO: implement softmax function\n",
        "        pass\n",
        "\n",
        "    def lossSE(self, predicted, actual):\n",
        "        \"\"\"Implementation of Squared-error loss function.\"\"\"\n",
        "        ### TODO: implement squared error loss function\n",
        "        pass\n",
        "\n",
        "    def lossCE(self, predicted, actual):\n",
        "        \"\"\"Implementation of Cross-Entropy loss function.\"\"\"\n",
        "        ### TODO: implement cross-entropy loss function\n",
        "        pass\n",
        "\n",
        "\n",
        "\n",
        "    def forward(self, x):\n",
        "        \"\"\"Defines forward pass of the NN\n",
        "\n",
        "        Args:\n",
        "            x (array): input of size self.inputSize\n",
        "\n",
        "        Returns:\n",
        "            a (array): output of the forward pass\n",
        "            layer_dot_prod_z (list): layerwise intermediate outputs\n",
        "            layer_activations_a (list): layerwise activations\n",
        "        \"\"\"\n",
        "\n",
        "        layer_activations_a = [x] # store the outputs of activation\n",
        "        a=x  ## storing input as activation of zero-th layer\n",
        "        layer_dot_prod_z = []\n",
        "        for i, param in enumerate(zip(self.biases, self.weights)):\n",
        "            b, w = param[0], param[1]\n",
        "\n",
        "            ### TODO: implement the computation of z\n",
        "            ## z = ???\n",
        "\n",
        "            # print(z.shape)\n",
        "            if self.layer_activations[i].lower()=='sigmoid':\n",
        "                a = self.sigmoid(z)\n",
        "            elif self.layer_activations[i].lower()=='relu':\n",
        "                a = self.ReLU(z)\n",
        "            elif self.layer_activations[i].lower()=='tanh':\n",
        "                a = self.tanh(z)\n",
        "            elif self.layer_activations[i].lower()=='linear':\n",
        "                a = self.linear(z)\n",
        "            elif self.layer_activations[i].lower()=='softmax':\n",
        "                a = self.softmax(z)\n",
        "            layer_dot_prod_z.append(z)\n",
        "            layer_activations_a.append(a)\n",
        "        return a, layer_dot_prod_z, layer_activations_a\n",
        "\n",
        "    def backward(self, x, y, zs, activations):\n",
        "        \"\"\"backward pass to calculate gradient of loss w.r.t. NN parameters\n",
        "\n",
        "        Args:\n",
        "            x (array): input\n",
        "            y (array): ouputs from forward pass\n",
        "            zs (list): layerwise intermediate outputs from forward pass\n",
        "            activations (list): layerwise activations from forward pass\n",
        "\n",
        "        Returns:\n",
        "            [tuple]: gradients with respect to bias and weight parameters respectively\n",
        "        \"\"\"\n",
        "\n",
        "        grad_b = [np.zeros(b.shape) for b in self.biases]\n",
        "        grad_w = [np.zeros(w.shape) for w in self.weights]\n",
        "\n",
        "        #### TODO: implement backpropagation for computation of gradients\n",
        "\n",
        "        return (grad_b, grad_w)\n",
        "\n",
        "    def update_parameters(self, grads, lr):\n",
        "        \"\"\"update the NN parameters using the gradients\n",
        "\n",
        "        Args:\n",
        "            grads (list): gradients obtained from backward pass\n",
        "            lr (float): learning rate of NN\n",
        "        \"\"\"\n",
        "\n",
        "        grad_b, grad_w = grads[0], grads[1]\n",
        "\n",
        "        ### TODO: implement updation of bias and weight parameters\n",
        "        pass\n",
        "\n",
        "\n",
        "\n",
        "    def error(self, X, Y, errors):\n",
        "        \"\"\"Appends loss to error list\"\"\"\n",
        "        y = np.squeeze(self.forward(X)[0])\n",
        "        errors.append(self.loss(y, Y))\n",
        "\n",
        "    def copy_params(self):\n",
        "        \"\"\"Returns a copy of current NN parameters\"\"\"\n",
        "        weights = [w.copy() for w in self.weights]\n",
        "        biases = [b.copy() for b in self.biases]\n",
        "        return (weights, biases)\n",
        "\n",
        "    def train(self, X, Y, lr = 1e-3, max_epochs = 1000, patience=5, batch_size = None,\n",
        "              n_classes=10, onehotencoded=False, loss_func='SE', Xval=None, Yval=None, verbose=True):\n",
        "        \"\"\"Function for training our Neural Network\n",
        "\n",
        "        Args:\n",
        "            X (ndarray): feature matrix of training data,\n",
        "             Shape: (n,m) where n is no. of features and m is no. of samples.\n",
        "            Y (ndarray): ground truth of training data, NOT one-hot-encoded. Shape: (1,m).\n",
        "            lr (float or function, optional): constant learning rate or scheduler function.\n",
        "             Defaults to 1e-3 constant lr.\n",
        "            max_epochs (int, optional): epoch cap for training. Defaults to 1000.\n",
        "            patience (int, optional): patience parameter for early stopping. Defaults to 5.\n",
        "            batch_size (int, optional): mini-batch size. Defaults to full-batch GD if not provided.\n",
        "            n_classes (int, optional): no. of classes for multi-class classification required if\n",
        "            one-hot encoding is set to True. Defaults to 10.\n",
        "            onehotencoded (bool, optional): Defaults to False.\n",
        "            loss_func (str, optional): Choose from 'SE' and 'CE' loss functions. Defaults to 'SE'.\n",
        "            Xval (ndarray, optional): Validation data feature matrix. Defaults to None.\n",
        "            Yval (ndarray, optional): Validation data ground truth. Defaults to None.\n",
        "            verbose (bool, optional): If True, displays logs and progress of training. Defaults to True.\n",
        "\n",
        "        Returns:\n",
        "            [list/tuple]: lists of train-set and validation-set losses seen over the traning process.\n",
        "        \"\"\"\n",
        "\n",
        "        if onehotencoded:\n",
        "            # a method for creating one hot encoded labels\n",
        "            def onehotencoding(Y, n):\n",
        "                # one-hot encoding of class i is just the ith column of the identity\n",
        "                # matrix of size n where n is the total number of classes. so below\n",
        "                # code uses Y (a 1d array) for indexing into the identity matrix.\n",
        "\n",
        "                ### TODO: return one-hot encoding for Y\n",
        "                pass\n",
        "\n",
        "            Y = onehotencoding(Y, n_classes)\n",
        "            if Yval is not None:\n",
        "                Yval = onehotencoding(Yval, n_classes)\n",
        "\n",
        "        # Below code ensures that Y is 2-dimensional even when one-hot encoding is not\n",
        "        # performed, so our same code works for training NN for both tasks.\n",
        "        Y = np.expand_dims(Y,0) if len(Y.shape) == 1 else Y\n",
        "        Yval = np.expand_dims(Yval,0) if (Yval is not None and len(Yval.shape) == 1) else Yval\n",
        "\n",
        "        if loss_func == 'SE':\n",
        "            self.loss = self.lossSE\n",
        "        elif loss_func == 'CE':\n",
        "            self.loss = self.lossCE\n",
        "\n",
        "        train_errors=[]\n",
        "        if Xval is not None:\n",
        "            val_errors=[]\n",
        "        i, j, v = 0, 0, np.inf     ## i -> epoch, j->patience, v ->best loss\n",
        "        best_params = self.copy_params()\n",
        "\n",
        "        if batch_size is not None:\n",
        "            if batch_size > len(X[0]):\n",
        "                raise ValueError(\"invalid mini-batch size. Must be smaller than dataset length\")\n",
        "        else:   ## if batch_size is not given\n",
        "            batch_size = len(X[0])\n",
        "\n",
        "        #LR control function\n",
        "\n",
        "        if isinstance(lr, (float, int)):# constant Ir arg is passed to train get_ir lambda x: 1r # we return a function object which returns the same ir at every epoc elif callable(lr): # function in arg is passed to train\n",
        "           get_lr =lambda X: lr # the function is then used to get in for a particular epoch else: raise ValueError('param Ir can only be a number or a scheduler function\")\n",
        "        elif callable(lr):\n",
        "          get_lr =lr\n",
        "        else:\n",
        "          raise ValueError('param lr can only be a number or a scheduler function')\n",
        "\n",
        "\n",
        "\n",
        "        while j < patience:\n",
        "\n",
        "            ### TODO: Implement the training algorithm with option for mini-batches\n",
        "            # Shuffle Dataset\n",
        "\n",
        "            #for every batch do\n",
        "\n",
        "                #do forward pass\n",
        "\n",
        "                #compute gradients using backpropagation\n",
        "\n",
        "                #update parameters\n",
        "            i += 1 # increment epoch count\n",
        "\n",
        "            self.error(X, Y, train_errors)   ### appending the loss to train_errors\n",
        "            if Xval is not None:\n",
        "                self.error(Xval, Yval, val_errors)    ## appending the val_loss to errors\n",
        "\n",
        "                if val_errors[-1] < v:\n",
        "                    j = 0 # reset patience counter\n",
        "                    v = val_errors[-1] # update best loss\n",
        "                    best_params = self.copy_params() # save params\n",
        "                else:\n",
        "                    j += 1 # increment patience counter\n",
        "\n",
        "            if verbose and i%5 == 0:\n",
        "                log = f\"Epoch {i}..............Loss on train = {train_errors[-1]}\"\n",
        "                if Xval is not None:\n",
        "                    log += f\", Loss on val = {val_errors[-1]}\"\n",
        "                print(log)\n",
        "\n",
        "            if i >= max_epochs:\n",
        "                break # stop if epoch threshold crossed\n",
        "\n",
        "        if Xval is not None:\n",
        "            if i >= max_epochs and verbose:\n",
        "                print(\"Reached Epoch Cap without convergence....Terminating\")\n",
        "            elif verbose:\n",
        "                print(\"Early Stopping .............. Returning best weights\")\n",
        "\n",
        "            self.weights, self.biases = best_params # reset to best params\n",
        "\n",
        "        if verbose:\n",
        "            x = np.arange(1, len(train_errors)+1)\n",
        "            plt.plot(x, train_errors, label=\"Loss on Train\")\n",
        "            if Xval is not None:\n",
        "                plt.plot(x, val_errors, label=\"Loss on Val\")\n",
        "            plt.legend()\n",
        "            plt.title(f\"{loss_func} - Learning Rate = {lr}\")\n",
        "            plt.xlabel(\"Epoch\")\n",
        "            plt.ylabel(\"Loss\")\n",
        "            plt.show()\n",
        "        if Xval is not None:\n",
        "            return (train_errors, val_errors)\n",
        "        return train_errors\n",
        "\n",
        "    def predict(self, x):\n",
        "      ### TODO: implement prediction for binary and multi-class classification\n"
      ]
    },
    {
      "cell_type": "markdown",
      "metadata": {
        "id": "6m9qBqPrifRp"
      },
      "source": [
        "**Creating a MLP (Feed forward NN) model instance for our Binary classification task :**\n",
        "\n",
        "Let's now create a simple feed-forward neural network.\n",
        "\n",
        "* Number of input neurons = 784.\n",
        "* Number of output layer neurons = 1.\n",
        "\n",
        "The number of hidden layers and number of neurons in each hidden layer can be decided by the user."
      ]
    },
    {
      "cell_type": "code",
      "execution_count": null,
      "metadata": {
        "id": "5v8Fxtw0-Ca5"
      },
      "outputs": [],
      "source": [
        "#D_in is input dimension\n",
        "#H1 is dimension of first hidden layer\n",
        "#H2 is dimension of second hidden layer\n",
        "#D_out is output dimension.\n",
        "\n",
        "D_in, H1, H2, D_out = 784, 200, 100, 1 #You can add more layers or more outputs if you wish.\n",
        "\n",
        "neurons = [D_in, H1, H2, D_out] # list of number of neurons in the layers sequentially.\n",
        "activation_functions = ['sigmoid','sigmoid','sigmoid'] # activations in each layer (Note: the input layer does not have any activation)\n",
        "nn_bin = Neural_Network(neurons, activation_functions) # There we go, creating our neural network."
      ]
    },
    {
      "cell_type": "markdown",
      "metadata": {
        "id": "y-BMNzeRs3rC"
      },
      "source": [
        "## Training the model:"
      ]
    },
    {
      "cell_type": "code",
      "execution_count": null,
      "metadata": {
        "id": "6_XFSOBWiep9"
      },
      "outputs": [],
      "source": [
        "losses = nn_bin.train(X_train_bin, Y_train_bin, batch_size=10, lr=1e-2, max_epochs=50, Xval = X_val_bin, Yval = Y_val_bin, verbose= True)"
      ]
    },
    {
      "cell_type": "markdown",
      "metadata": {
        "id": "eBYaTMAjsx17"
      },
      "source": [
        "##Testing the model:\n",
        "Now it's the time to test our model:"
      ]
    },
    {
      "cell_type": "code",
      "execution_count": null,
      "metadata": {
        "id": "ADCumtiUiIdY"
      },
      "outputs": [],
      "source": [
        "print(\"First 10 outputs    :\", Y_test_bin[:10])\n",
        "preds = nn_bin.predict(X_test_bin[:,:10])\n",
        "print(\"First 10 predictions:\", preds)"
      ]
    },
    {
      "cell_type": "markdown",
      "metadata": {
        "id": "mpmq-iTVukjd"
      },
      "source": [
        "Now it's time to check the accuracy of our model on the entire dataset:"
      ]
    },
    {
      "cell_type": "code",
      "execution_count": null,
      "metadata": {
        "id": "BPhezdmQurHQ"
      },
      "outputs": [],
      "source": [
        "Y_pred_bin = nn_bin.predict(X_test_bin)"
      ]
    },
    {
      "cell_type": "markdown",
      "metadata": {
        "id": "z6km6votvImL"
      },
      "source": [
        "##Checking the accuracy:\n",
        "You can write a simple code manually to calculate the accuracy of model by counting the number of correct predictions. However there are tools available to make it easier."
      ]
    },
    {
      "cell_type": "code",
      "execution_count": null,
      "metadata": {
        "id": "P94_7ggVvdU9"
      },
      "outputs": [],
      "source": [
        "### TODO: Compute accuracy\n",
        "print(\"Model accuracy =\", round(accuracy*100,2),\"%\")"
      ]
    },
    {
      "cell_type": "markdown",
      "metadata": {
        "id": "8VX3lLCENAtM"
      },
      "source": [
        "As we can see that the model has not converged yet, so we can increse the epochs further."
      ]
    },
    {
      "cell_type": "markdown",
      "metadata": {
        "id": "WLy5ZHxPZr1f"
      },
      "source": [
        "##Confusion Matrix:\n"
      ]
    },
    {
      "cell_type": "code",
      "execution_count": null,
      "metadata": {
        "id": "lHmC7pxla69v"
      },
      "outputs": [],
      "source": [
        "from sklearn.metrics import confusion_matrix, ConfusionMatrixDisplay\n",
        "\n",
        "matrix_bin = confusion_matrix(Y_test_bin, Y_pred_bin)\n",
        "ConfusionMatrixDisplay(matrix_bin, display_labels=[0,1]).plot(cmap=\"Blues\", values_format='')\n",
        "plt.show()"
      ]
    },
    {
      "cell_type": "markdown",
      "metadata": {
        "id": "Cf-iat09wTqd"
      },
      "source": [
        "Looks great! We further can improve the results by:\n",
        "\n",
        "* increasing the number of epochs\n",
        "* changing the hidden layer format\n",
        "* changing the hyperparameters(Called hyperparameter tuning)\n",
        "\n",
        "\n",
        "Now let's head towards the multiclass classification problem."
      ]
    },
    {
      "cell_type": "markdown",
      "metadata": {
        "id": "rHsgVnoe8RJ2"
      },
      "source": [
        "<br><br><br><br>\n",
        "\n",
        "###**Multi-class Classification problem:**\n",
        "We will do the same thing, with multiple classes this time. We will consider the digits **'2', '4', '6',** and **'8'**."
      ]
    },
    {
      "cell_type": "code",
      "execution_count": null,
      "metadata": {
        "id": "cjGEzlGk8Pzn"
      },
      "outputs": [],
      "source": [
        "train_idx = np.where((Y_train==2) | (Y_train==4) | (Y_train==6) | (Y_train==8))\n",
        "X_train_multiclass = X_normalized_train[train_idx]\n",
        "Y_train_multiclass = Y_train[train_idx]\n",
        "\n",
        "test_idx = np.where((Y_test==2) | (Y_test==4) | (Y_test==6) | (Y_test==8))\n",
        "X_test_multiclass = X_normalized_test[test_idx]\n",
        "Y_test_multiclass = Y_test[test_idx]\n",
        "\n",
        "print(f'Trainset shapes - X: {X_train_multiclass.shape}, Y: {Y_train_multiclass.shape}')\n",
        "print(f'Testset shapes - X: {X_test_multiclass.shape}, Y: {Y_test_multiclass.shape}')\n",
        "\n",
        "print(f'\\nTrain statistics - 2: {(Y_train_multiclass==2).sum()}, 4: {(Y_train_multiclass==4).sum()}, 6: {(Y_train_multiclass==6).sum()}, 8: {(Y_train_multiclass==8).sum()}')\n",
        "print(f'Test statistics - 2: {(Y_test_multiclass==2).sum()}, 4: {(Y_test_multiclass==4).sum()}, 6: {(Y_test_multiclass==6).sum()}, 8: {(Y_test_multiclass==8).sum()}')"
      ]
    },
    {
      "cell_type": "code",
      "execution_count": null,
      "metadata": {
        "id": "7RGQXyMwLtX6"
      },
      "outputs": [],
      "source": [
        "# Setting label correct labels for multi class classification\n",
        "\n",
        "Y_train_multiclass[Y_train_multiclass==2] = 0\n",
        "Y_test_multiclass[Y_test_multiclass==2] = 0\n",
        "\n",
        "Y_train_multiclass[Y_train_multiclass==4] = 1\n",
        "Y_test_multiclass[Y_test_multiclass==4] = 1\n",
        "\n",
        "Y_train_multiclass[Y_train_multiclass==6] = 2\n",
        "Y_test_multiclass[Y_test_multiclass==6] = 2\n",
        "\n",
        "Y_train_multiclass[Y_train_multiclass==8] = 3\n",
        "Y_test_multiclass[Y_test_multiclass==8] = 3"
      ]
    },
    {
      "cell_type": "code",
      "execution_count": null,
      "metadata": {
        "id": "_sAaro0xAP8X"
      },
      "outputs": [],
      "source": [
        "X_train_multiclass, X_val_multiclass, Y_train_multiclass, Y_val_multiclass = train_test_split(X_train_multiclass, Y_train_multiclass, test_size=0.2, random_state = 1)"
      ]
    },
    {
      "cell_type": "code",
      "execution_count": null,
      "metadata": {
        "id": "JLTugI_oAP8X"
      },
      "outputs": [],
      "source": [
        "print(f'Trainset shapes - X: {X_train_multiclass.shape}, Y: {Y_train_multiclass.shape}')\n",
        "print(f'Valset shapes - X: {X_val_multiclass.shape}, Y: {Y_val_multiclass.shape}')\n",
        "\n",
        "print(f'\\nTrain statistics - 2: {(Y_train_multiclass==0).sum()}, 4: {(Y_train_multiclass==1).sum()}, 6: {(Y_train_multiclass==2).sum()}, 8: {(Y_train_multiclass==3).sum()}')\n",
        "print(f'Val statistics - 2: {(Y_val_multiclass==0).sum()}, 4: {(Y_val_multiclass==1).sum()}, 6: {(Y_val_multiclass==2).sum()}, 8: {(Y_val_multiclass==3).sum()}')"
      ]
    },
    {
      "cell_type": "code",
      "execution_count": null,
      "metadata": {
        "id": "hBl-CbaVAP8X"
      },
      "outputs": [],
      "source": [
        "# Traspose feature matrices as per our model requirement\n",
        "\n",
        "X_train_multiclass, X_val_multiclass, X_test_multiclass = X_train_multiclass.T, X_val_multiclass.T, X_test_multiclass.T\n",
        "print(f'Shapes - {X_train_multiclass.shape, X_val_multiclass.shape, X_test_multiclass.shape}')"
      ]
    },
    {
      "cell_type": "code",
      "source": [
        "# Creating model instance\n",
        "\n",
        "D_in, H1, H2, D_out = 784, 200, 100, 4 # As there are 4 classes\n",
        "neurons = [D_in, H1, H2, D_out]\n",
        "activation_functions = ['sigmoid','sigmoid','softmax'] # activations in each layer (Note: the input layer does not have any activation)\n",
        "nn_multiclass = Neural_Network(neurons, activation_functions)\n",
        "losses = nn_multiclass.train(X_train_multiclass, Y_train_multiclass, batch_size=10, lr=1e-2, max_epochs=100, n_classes = 4,\n",
        "                             onehotencoded=True, loss_func='CE', Xval = X_val_multiclass, Yval = Y_val_multiclass)"
      ],
      "metadata": {
        "id": "Sf9isodQwZ3G"
      },
      "execution_count": null,
      "outputs": []
    },
    {
      "cell_type": "code",
      "execution_count": null,
      "metadata": {
        "id": "b71-QzasFsK7"
      },
      "outputs": [],
      "source": [
        "# checking first 10 predictions\n",
        "\n",
        "print(\"First 10 outputs    :\", Y_test_multiclass[:10])\n",
        "preds = nn_multiclass.predict(X_test_multiclass[:, :10])\n",
        "print(\"First 10 predictions:\", preds)"
      ]
    },
    {
      "cell_type": "markdown",
      "metadata": {
        "id": "XeODlqxumelo"
      },
      "source": [
        "##Model accuracy:\n"
      ]
    },
    {
      "cell_type": "code",
      "execution_count": null,
      "metadata": {
        "id": "2YQWJ1FFFsK9"
      },
      "outputs": [],
      "source": [
        "### TODO: Compute multiclass classification accuracy\n",
        "print(\"Model accuracy =\", round(multiclass_accuracy*100,2),\"%\")"
      ]
    },
    {
      "cell_type": "markdown",
      "metadata": {
        "id": "CuqKDpwjmhZi"
      },
      "source": [
        "##Confusion matrix:"
      ]
    },
    {
      "cell_type": "code",
      "execution_count": null,
      "metadata": {
        "id": "UizUqH9_jgGL"
      },
      "outputs": [],
      "source": [
        "matrix_multiclass = confusion_matrix(Y_test_multiclass, Y_pred_multiclass)\n",
        "ConfusionMatrixDisplay(matrix_multiclass,  display_labels=[2,4,6,8]).plot(cmap=\"Blues\", values_format='')\n",
        "plt.show()\n",
        "print(\"\\nLabel totals in dataset:\\n\", list(zip([2,4,6,8], np.sum(matrix_multiclass, axis=-1))))"
      ]
    }
  ],
  "metadata": {
    "colab": {
      "provenance": []
    },
    "interpreter": {
      "hash": "b3ba2566441a7c06988d0923437866b63cedc61552a5af99d1f4fb67d367b25f"
    },
    "kernelspec": {
      "display_name": "Python 3.7.6 64-bit ('base': conda)",
      "name": "python3"
    },
    "language_info": {
      "codemirror_mode": {
        "name": "ipython",
        "version": 3
      },
      "file_extension": ".py",
      "mimetype": "text/x-python",
      "name": "python",
      "nbconvert_exporter": "python",
      "pygments_lexer": "ipython3",
      "version": "3.7.6"
    }
  },
  "nbformat": 4,
  "nbformat_minor": 0
}